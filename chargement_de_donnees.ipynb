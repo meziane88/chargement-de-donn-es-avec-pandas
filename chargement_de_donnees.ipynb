{
 "metadata": {
  "language_info": {
   "codemirror_mode": {
    "name": "ipython",
    "version": 3
   },
   "file_extension": ".py",
   "mimetype": "text/x-python",
   "name": "python",
   "nbconvert_exporter": "python",
   "pygments_lexer": "ipython3",
   "version": "3.8.5-final"
  },
  "orig_nbformat": 2,
  "kernelspec": {
   "name": "python_defaultSpec_1598102697401",
   "display_name": "Python 3.8.5 64-bit"
  }
 },
 "nbformat": 4,
 "nbformat_minor": 2,
 "cells": [
  {
   "cell_type": "markdown",
   "metadata": {},
   "source": [
    "# Travailler à la main avec des formats délimités "
   ]
  },
  {
   "cell_type": "code",
   "execution_count": 1,
   "metadata": {
    "tags": []
   },
   "outputs": [
    {
     "output_type": "stream",
     "name": "stdout",
     "text": "<_csv.reader object at 0x0000021D21E5AB80>\n"
    }
   ],
   "source": [
    "import csv \n",
    "f = open(\"es7.csv\")\n",
    "\n",
    "reader = csv.reader(f)\n",
    "print(reader)"
   ]
  },
  {
   "cell_type": "code",
   "execution_count": 2,
   "metadata": {
    "tags": []
   },
   "outputs": [
    {
     "output_type": "stream",
     "name": "stdout",
     "text": "['a', 'b', 'c']\n['1', '2', '3']\n['1', '2', '3', '4']\n"
    }
   ],
   "source": [
    "for i in reader:\n",
    "    print(i)"
   ]
  },
  {
   "cell_type": "markdown",
   "metadata": {},
   "source": [
    "Différente méthode de récupération des données sur reader"
   ]
  },
  {
   "cell_type": "code",
   "execution_count": 3,
   "metadata": {
    "tags": []
   },
   "outputs": [
    {
     "output_type": "stream",
     "name": "stdout",
     "text": "[['a', 'b', 'c'], ['1', '2', '3'], ['1', '2', '3', '4']]\n"
    }
   ],
   "source": [
    "lines = list(csv.reader(open('es7.csv')))\n",
    "print (lines)"
   ]
  },
  {
   "cell_type": "code",
   "execution_count": null,
   "metadata": {},
   "outputs": [],
   "source": [
    "header, values = lines[0], lines[1:]"
   ]
  }
 ]
}